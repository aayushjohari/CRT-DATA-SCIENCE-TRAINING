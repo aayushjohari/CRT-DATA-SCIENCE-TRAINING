{
 "cells": [
  {
   "cell_type": "code",
   "execution_count": 7,
   "metadata": {},
   "outputs": [
    {
     "name": "stdout",
     "output_type": "stream",
     "text": [
      "driving\n",
      "bike driving\n",
      "car driving\n"
     ]
    }
   ],
   "source": [
    "#Inheritence\n",
    "class vehicle:\n",
    "    def __init__(self):\n",
    "        self.a = 'driving'\n",
    "\n",
    "class bike(vehicle):\n",
    "    def __init__(self):\n",
    "        super().__init__()  \n",
    "        self.b = 'bike driving'\n",
    "\n",
    "\n",
    "class car(bike):\n",
    "    def __init__(self):\n",
    "        super().__init__() \n",
    "        self.c = 'car driving'\n",
    "\n",
    "obj = car()\n",
    "print(obj.a)  \n",
    "print(obj.b) \n",
    "print(obj.c)  \n"
   ]
  },
  {
   "cell_type": "code",
   "execution_count": 21,
   "metadata": {},
   "outputs": [
    {
     "name": "stdout",
     "output_type": "stream",
     "text": [
      "Protected\n",
      "Private\n",
      "Public\n"
     ]
    }
   ],
   "source": [
    "#Access Modifiers or Instance Variables\n",
    "class Main:\n",
    "    def __init__(self):\n",
    "        self._a = \"Protected\"\n",
    "        self.__b = \"Private\"\n",
    "        self.c = \"Public\"\n",
    "\n",
    "class Students(Main):\n",
    "    def __init__(self):\n",
    "        super().__init__()\n",
    "        \n",
    "obj = Students()\n",
    "\n",
    "print(obj._a)\n",
    "print(obj._main__b)\n",
    "print(obj.c)\n",
    "\n"
   ]
  }
 ],
 "metadata": {
  "kernelspec": {
   "display_name": "Python 3",
   "language": "python",
   "name": "python3"
  },
  "language_info": {
   "codemirror_mode": {
    "name": "ipython",
    "version": 3
   },
   "file_extension": ".py",
   "mimetype": "text/x-python",
   "name": "python",
   "nbconvert_exporter": "python",
   "pygments_lexer": "ipython3",
   "version": "3.9.6"
  }
 },
 "nbformat": 4,
 "nbformat_minor": 2
}
