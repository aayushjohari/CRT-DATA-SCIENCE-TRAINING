{
 "cells": [
  {
   "cell_type": "markdown",
   "metadata": {},
   "source": [
    "# **Numpy**"
   ]
  },
  {
   "cell_type": "code",
   "execution_count": 1,
   "metadata": {},
   "outputs": [],
   "source": [
    "import numpy as np # type: ignore # Used to import numpy as np to use its functions"
   ]
  },
  {
   "cell_type": "code",
   "execution_count": 2,
   "metadata": {},
   "outputs": [
    {
     "name": "stdout",
     "output_type": "stream",
     "text": [
      "List :  [1, 2, 3, 4, 5, 6, 7, 8, 9, 10, 11, 12, 13, 14, 15, 16, 17, 18, 19, 20, 21, 22, 23, 24]\n",
      "Array : [ 1  2  3  4  5  6  7  8  9 10 11 12 13 14 15 16 17 18 19 20 21 22 23 24]\n"
     ]
    },
    {
     "data": {
      "text/plain": [
       "numpy.ndarray"
      ]
     },
     "execution_count": 2,
     "metadata": {},
     "output_type": "execute_result"
    }
   ],
   "source": [
    "nums = list(range(1, 25)) # Used to create a list\n",
    "print(\"List : \", nums)\n",
    "array = np.array(nums)\n",
    "print(f\"Array : {array}\")\n",
    "type(array)"
   ]
  },
  {
   "cell_type": "code",
   "execution_count": 3,
   "metadata": {},
   "outputs": [
    {
     "name": "stdout",
     "output_type": "stream",
     "text": [
      "[1 2 3 4 5]\n"
     ]
    }
   ],
   "source": [
    "arr = np.array([1,2,3,4,5]) # Used to create a array\n",
    "print(arr)"
   ]
  },
  {
   "cell_type": "code",
   "execution_count": 4,
   "metadata": {},
   "outputs": [
    {
     "name": "stdout",
     "output_type": "stream",
     "text": [
      "[ 1  2  3  4  5  6  7  8  9 10 11 12 13 14 15 16 17 18 19 20 21 22 23 24]\n"
     ]
    }
   ],
   "source": [
    "arr = np.arange(1, 25) # Used to create a array with the given range\n",
    "print(arr)"
   ]
  },
  {
   "cell_type": "code",
   "execution_count": 5,
   "metadata": {},
   "outputs": [
    {
     "name": "stdout",
     "output_type": "stream",
     "text": [
      "2\n",
      "3\n",
      "[[1 2 3]\n",
      " [4 5 6]\n",
      " [7 8 9]]\n"
     ]
    }
   ],
   "source": [
    "arr2 = np.array([[1,2,3], [4,5,6], [7,8,9]]) # Used to create a 2D array\n",
    "arr3 = np.array([[[1,2,3], [4,5,6], [7,8,9]]]) # Used to create 3D array\n",
    "print(arr2.ndim) # Used to find the dimension of the array\n",
    "print(arr3.ndim)\n",
    "print(arr2)"
   ]
  },
  {
   "cell_type": "code",
   "execution_count": 6,
   "metadata": {},
   "outputs": [
    {
     "name": "stdout",
     "output_type": "stream",
     "text": [
      "[[[ 1  2  3  4]\n",
      "  [ 5  6  7  8]\n",
      "  [17 18 19 20]]\n",
      "\n",
      " [[ 9 10 11 12]\n",
      "  [13 14 15 16]\n",
      "  [21 22 23 24]]]\n",
      "3\n"
     ]
    }
   ],
   "source": [
    "# Creating a 3d Array (2 blocks, 3 rows, 4 columns)\n",
    "arr = np.array([[[1,2,3,4], [5,6,7,8], [17,18,19,20]], [[9,10,11,12], [13,14,15,16], [21,22,23,24]]])\n",
    "print(arr)\n",
    "print(arr.ndim)"
   ]
  },
  {
   "cell_type": "code",
   "execution_count": 7,
   "metadata": {},
   "outputs": [
    {
     "name": "stdout",
     "output_type": "stream",
     "text": [
      "[[0. 0. 0.]\n",
      " [0. 0. 0.]]\n"
     ]
    }
   ],
   "source": [
    "arr4 = np.zeros((2,3)) # Used to create a 2D array with zeros\n",
    "print(arr4)"
   ]
  },
  {
   "cell_type": "code",
   "execution_count": 8,
   "metadata": {},
   "outputs": [
    {
     "name": "stdout",
     "output_type": "stream",
     "text": [
      "Dimension of arr6 :  3\n",
      "Dimension of arr5 :  1\n",
      "Dimension of arr7 :  2\n"
     ]
    }
   ],
   "source": [
    "arr5 = np.linspace(1, 10, 5) # Used to create a array with the given range\n",
    "arr6 = np.linspace(1,10,8).reshape(2,2,2) # Used to create a array with the given range in 3D array \n",
    "arr7 = np.linspace(1,10,4).reshape(2,2) # Used to create a array with the given range in 2D array\n",
    "print(\"Dimension of arr6 : \",arr6.ndim)\n",
    "print(\"Dimension of arr5 : \",arr5.ndim)\n",
    "print(\"Dimension of arr7 : \",arr7.ndim)"
   ]
  },
  {
   "cell_type": "code",
   "execution_count": 9,
   "metadata": {},
   "outputs": [
    {
     "name": "stdout",
     "output_type": "stream",
     "text": [
      "[[ 1  2  3  4  5  6]\n",
      " [ 7  8  9 10 11 12]\n",
      " [13 14 15 16 17 18]\n",
      " [19 20 21 22 23 24]\n",
      " [25 26 27 28 29 30]]\n",
      "(5, 6)\n",
      "30\n",
      "int64\n",
      "[[ 1  7 13 19 25]\n",
      " [ 2  8 14 20 26]\n",
      " [ 3  9 15 21 27]\n",
      " [ 4 10 16 22 28]\n",
      " [ 5 11 17 23 29]\n",
      " [ 6 12 18 24 30]]\n",
      "[ 1  2  3  4  5  6  7  8  9 10 11 12 13 14 15 16 17 18 19 20 21 22 23 24\n",
      " 25 26 27 28 29 30]\n",
      "30\n",
      "1\n",
      "465\n",
      "15.5\n",
      "8.65544144839919\n",
      "[[0 1 2 3 4 5]\n",
      " [0 1 2 3 4 5]\n",
      " [0 1 2 3 4 5]\n",
      " [0 1 2 3 4 5]\n",
      " [0 1 2 3 4 5]]\n"
     ]
    }
   ],
   "source": [
    "nums1 = np.arange(1,31).reshape(5,6) # Used to create a array with the given range and resape it in 5x6 matrix\n",
    "print(nums1)\n",
    "print(nums1.shape)  # Used to find the shape of the array\n",
    "print(nums1.size) # Used to find the size of the array\n",
    "print(nums1.dtype) # Used to find the data type of the array\n",
    "print(nums1.T) # Used to transpose the array\n",
    "print(nums1.ravel()) # Used to flatten the array\n",
    "print(nums1.max()) # Used to find the maximum value of the array\n",
    "print(nums1.min()) # Used to find the minimum value of the array\n",
    "print(nums1.sum()) # Used to find the sum of the array\n",
    "print(nums1.mean()) # Used to find the mean of the array\n",
    "print(nums1.std()) # Used to find the standard deviation of the array.\n",
    "print(nums1.argsort()) # Used to find the index of the array"
   ]
  },
  {
   "cell_type": "code",
   "execution_count": 10,
   "metadata": {},
   "outputs": [
    {
     "name": "stdout",
     "output_type": "stream",
     "text": [
      "[21 90 80 97 11 82 98 34 41 87] \n",
      "\n",
      "[[93 19 69 67]\n",
      " [12 57 42 88]\n",
      " [21 11  1 51]] \n",
      "\n",
      "[[[80 19 52]\n",
      "  [71 98 39]\n",
      "  [85 25 57]]\n",
      "\n",
      " [[ 2 98 80]\n",
      "  [19 47 60]\n",
      "  [10 45 15]]\n",
      "\n",
      " [[73 61 66]\n",
      "  [78  6 15]\n",
      "  [99  3 76]]] \n",
      "\n"
     ]
    }
   ],
   "source": [
    "arr = np.random.randint(1, 100, 10) # Used to create a random array with the given range\n",
    "print(arr, \"\\n\")\n",
    "arr1 = np.random.randint(1, 100, (3,4)) # Used to create a random 2D array with the given range\n",
    "print(arr1, \"\\n\")\n",
    "arr2 = np.random.randint(1, 100, (3,3,3)) # Used to create a random 3D array with the given range\n",
    "print(arr2, \"\\n\")"
   ]
  },
  {
   "cell_type": "code",
   "execution_count": 11,
   "metadata": {},
   "outputs": [
    {
     "name": "stdout",
     "output_type": "stream",
     "text": [
      "[[0.43355742 0.54683136 0.78354531 0.70422333 0.86969519]\n",
      " [0.35044881 0.26935089 0.28518296 0.60864388 0.12337849]\n",
      " [0.79714626 0.00788398 0.43530447 0.15385964 0.0921335 ]\n",
      " [0.18153152 0.60505332 0.67728091 0.19816388 0.38711946]\n",
      " [0.3000215  0.0622905  0.62549413 0.77293861 0.1046133 ]\n",
      " [0.62540639 0.5468423  0.70646346 0.16586779 0.36384534]\n",
      " [0.2347733  0.43490533 0.54609062 0.02415622 0.67130225]\n",
      " [0.90962269 0.1437087  0.400012   0.53438735 0.39897792]\n",
      " [0.56553911 0.08414211 0.37799235 0.17938147 0.79091243]\n",
      " [0.41913221 0.41980952 0.76485873 0.38691854 0.85882761]]\n"
     ]
    }
   ],
   "source": [
    "arr = np.random.random((10,5))\n",
    "print(arr)"
   ]
  }
 ],
 "metadata": {
  "kernelspec": {
   "display_name": "Python 3",
   "language": "python",
   "name": "python3"
  },
  "language_info": {
   "codemirror_mode": {
    "name": "ipython",
    "version": 3
   },
   "file_extension": ".py",
   "mimetype": "text/x-python",
   "name": "python",
   "nbconvert_exporter": "python",
   "pygments_lexer": "ipython3",
   "version": "3.13.2"
  }
 },
 "nbformat": 4,
 "nbformat_minor": 2
}
